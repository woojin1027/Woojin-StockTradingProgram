{
 "cells": [
  {
   "cell_type": "code",
   "execution_count": 5,
   "id": "42ba969c",
   "metadata": {},
   "outputs": [],
   "source": [
    "import xml.etree.ElementTree"
   ]
  },
  {
   "cell_type": "code",
   "execution_count": 8,
   "id": "c2537d5d",
   "metadata": {},
   "outputs": [],
   "source": [
    "import seaborn"
   ]
  },
  {
   "cell_type": "code",
   "execution_count": 7,
   "id": "3d1ecb02",
   "metadata": {},
   "outputs": [],
   "source": [
    "import newspaper"
   ]
  },
  {
   "cell_type": "code",
   "execution_count": 13,
   "id": "1c4ba1a3",
   "metadata": {
    "scrolled": true
   },
   "outputs": [
    {
     "name": "stdout",
     "output_type": "stream",
     "text": [
      "(3, 2)\n",
      "6\n",
      "2\n",
      "24\n",
      "int32\n"
     ]
    }
   ],
   "source": [
    "import numpy as np\n",
    "\n",
    "data = np.array([[1,1],[1,2],[1,3]])\n",
    "\n",
    "print(data.shape)\n",
    "print(data.size)\n",
    "print(data.ndim)\n",
    "print(data.nbytes)\n",
    "print(data.dtype)"
   ]
  },
  {
   "cell_type": "code",
   "execution_count": 20,
   "id": "46048617",
   "metadata": {
    "scrolled": true
   },
   "outputs": [
    {
     "name": "stdout",
     "output_type": "stream",
     "text": [
      "[1 2 3]\n",
      "[1. 2. 3.]\n",
      "[1.+0.j 2.+0.j 3.+0.j]\n",
      "[1 2 3]\n",
      "1j\n"
     ]
    },
    {
     "name": "stderr",
     "output_type": "stream",
     "text": [
      "<ipython-input-20-74271bc43670>:3: DeprecationWarning: `np.int` is a deprecated alias for the builtin `int`. To silence this warning, use `int` by itself. Doing this will not modify any behavior and is safe. When replacing `np.int`, you may wish to use e.g. `np.int64` or `np.int32` to specify the precision. If you wish to review your current use, check the release note link for additional information.\n",
      "Deprecated in NumPy 1.20; for more details and guidance: https://numpy.org/devdocs/release/1.20.0-notes.html#deprecations\n",
      "  print(np.array([1, 2, 3], dtype=np.int))\n",
      "<ipython-input-20-74271bc43670>:5: DeprecationWarning: `np.float` is a deprecated alias for the builtin `float`. To silence this warning, use `float` by itself. Doing this will not modify any behavior and is safe. If you specifically wanted the numpy scalar type, use `np.float64` here.\n",
      "Deprecated in NumPy 1.20; for more details and guidance: https://numpy.org/devdocs/release/1.20.0-notes.html#deprecations\n",
      "  print(np.array([1, 2, 3], dtype=np.float))\n",
      "<ipython-input-20-74271bc43670>:7: DeprecationWarning: `np.complex` is a deprecated alias for the builtin `complex`. To silence this warning, use `complex` by itself. Doing this will not modify any behavior and is safe. If you specifically wanted the numpy scalar type, use `np.complex128` here.\n",
      "Deprecated in NumPy 1.20; for more details and guidance: https://numpy.org/devdocs/release/1.20.0-notes.html#deprecations\n",
      "  print(np.array([1, 2, 3], dtype=np.complex))\n",
      "<ipython-input-20-74271bc43670>:9: DeprecationWarning: `np.float` is a deprecated alias for the builtin `float`. To silence this warning, use `float` by itself. Doing this will not modify any behavior and is safe. If you specifically wanted the numpy scalar type, use `np.float64` here.\n",
      "Deprecated in NumPy 1.20; for more details and guidance: https://numpy.org/devdocs/release/1.20.0-notes.html#deprecations\n",
      "  data= np.array([1, 2, 3], dtype=np.float)\n",
      "<ipython-input-20-74271bc43670>:10: DeprecationWarning: `np.int` is a deprecated alias for the builtin `int`. To silence this warning, use `int` by itself. Doing this will not modify any behavior and is safe. When replacing `np.int`, you may wish to use e.g. `np.int64` or `np.int32` to specify the precision. If you wish to review your current use, check the release note link for additional information.\n",
      "Deprecated in NumPy 1.20; for more details and guidance: https://numpy.org/devdocs/release/1.20.0-notes.html#deprecations\n",
      "  print(data.astype(np.int))\n"
     ]
    }
   ],
   "source": [
    "import numpy as np\n",
    "\n",
    "print(np.array([1, 2, 3], dtype=np.int))\n",
    "\n",
    "print(np.array([1, 2, 3], dtype=np.float))\n",
    "\n",
    "print(np.array([1, 2, 3], dtype=np.complex))\n",
    "\n",
    "data= np.array([1, 2, 3], dtype=np.float)\n",
    "print(data.astype(np.int))\n",
    "\n",
    "print(np.sqrt(-1, dtype=complex))"
   ]
  },
  {
   "cell_type": "code",
   "execution_count": 22,
   "id": "556eca07",
   "metadata": {
    "scrolled": true
   },
   "outputs": [
    {
     "name": "stdout",
     "output_type": "stream",
     "text": [
      "[[0. 0. 0.]\n",
      " [0. 0. 0.]]\n",
      "[1. 1. 1. 1.]\n",
      "[3.2 3.2 3.2]\n"
     ]
    }
   ],
   "source": [
    "import numpy as np\n",
    "\n",
    "print(np.zeros((2,3)))\n",
    "\n",
    "print(np.ones(4))\n",
    "print(np.full(3,3.2))"
   ]
  },
  {
   "cell_type": "code",
   "execution_count": 27,
   "id": "c8053d0a",
   "metadata": {
    "scrolled": true
   },
   "outputs": [
    {
     "data": {
      "text/plain": [
       "array([0, 1, 2, 3, 4])"
      ]
     },
     "execution_count": 27,
     "metadata": {},
     "output_type": "execute_result"
    }
   ],
   "source": [
    "import numpy as np\n",
    "\n",
    "a = np.arange(0, 11)\n",
    "\n",
    "#a[0]\n",
    "#a[-1]\n",
    "a[4]\n",
    "a[0:5]\n",
    "#a[0:5:2]\n",
    "#a[:5]\n",
    "#a[-5:]\n",
    "#a[::-2]"
   ]
  },
  {
   "cell_type": "code",
   "execution_count": 29,
   "id": "e1aff56a",
   "metadata": {
    "scrolled": true
   },
   "outputs": [
    {
     "data": {
      "text/plain": [
       "array([ 2, 12, 22, 32])"
      ]
     },
     "execution_count": 29,
     "metadata": {},
     "output_type": "execute_result"
    }
   ],
   "source": [
    "a = np.array([[1,2,3,4],\n",
    "[11,12,13,14],[21,22,23,24]\n",
    ",[31,32,33,34]])\n",
    "\n",
    "a[:,1]"
   ]
  },
  {
   "cell_type": "code",
   "execution_count": 31,
   "id": "a25824e6",
   "metadata": {
    "scrolled": true
   },
   "outputs": [
    {
     "data": {
      "text/plain": [
       "array([0.6, 0.7, 0.8, 0.9, 1. ])"
      ]
     },
     "execution_count": 31,
     "metadata": {},
     "output_type": "execute_result"
    }
   ],
   "source": [
    "A = np.linspace(0, 1, 11)\n",
    "\n",
    "A[np.array([0, 2, 4])]\n",
    "A[A>0.5]\n",
    "#A[np.arange(2,5)]"
   ]
  },
  {
   "cell_type": "code",
   "execution_count": 32,
   "id": "2cd3d3cc",
   "metadata": {
    "scrolled": true
   },
   "outputs": [
    {
     "data": {
      "text/plain": [
       "array([[0, 1, 2],\n",
       "       [3, 0, 1]])"
      ]
     },
     "execution_count": 32,
     "metadata": {},
     "output_type": "execute_result"
    }
   ],
   "source": [
    "a = np.arange(3)\n",
    "b = np.arange(4)\n",
    "\n",
    "np.concatenate((a,b))\n",
    "\n",
    "np.append(a,[3,4,5])\n",
    "\n",
    "np.resize(b,(2,3))"
   ]
  },
  {
   "cell_type": "code",
   "execution_count": 46,
   "id": "db6139b2",
   "metadata": {
    "scrolled": true
   },
   "outputs": [
    {
     "name": "stdout",
     "output_type": "stream",
     "text": [
      "0\n",
      "-1.2246467991473532e-16\n",
      "2.0\n",
      "3.0\n",
      "2.0\n"
     ]
    }
   ],
   "source": [
    "import numpy as np\n",
    "#np.cos(np.pi)\n",
    "#np.sin(np.pi)\n",
    "print(int(np.tan(np.pi)))\n",
    "print(np.tan(np.pi))\n",
    "print(np.sqrt(4))\n",
    "\n",
    "print(np.log2(8))\n",
    "print(np.log10(100))"
   ]
  },
  {
   "cell_type": "code",
   "execution_count": 49,
   "id": "bdc10081",
   "metadata": {
    "scrolled": true
   },
   "outputs": [
    {
     "name": "stdout",
     "output_type": "stream",
     "text": [
      "[[0 3 6]\n",
      " [1 4 7]\n",
      " [2 5 8]]\n",
      "[[2 5 8]\n",
      " [1 4 7]\n",
      " [0 3 6]]\n",
      "[[1 2 3]\n",
      " [7 8 9]]\n"
     ]
    }
   ],
   "source": [
    "mat = np.arange(9).reshape(3, 3)\n",
    "\n",
    "print(np.transpose(mat))\n",
    "np.fliplr(mat)\n",
    "np.flipud(mat)\n",
    "print(np.rot90(mat))\n",
    "\n",
    "c = [[2,3,1],[9,8,7]]\n",
    "print(np.sort(c))"
   ]
  },
  {
   "cell_type": "code",
   "execution_count": 58,
   "id": "66beef78",
   "metadata": {
    "scrolled": true
   },
   "outputs": [
    {
     "name": "stdout",
     "output_type": "stream",
     "text": [
      "exp(x)*exp(y)\n",
      "exp(x + y)\n"
     ]
    }
   ],
   "source": [
    "import sympy\n",
    "x = sympy.Symbol(\"x\")\n",
    "y = sympy.Symbol(\"y\")\n",
    "\n",
    "expr = 2 * (x**2 - x) - x * (x+1)\n",
    "expr = 2 * sympy.cos(x) * sympy.sin(x)\n",
    "expr3 = sympy.exp(x) * sympy.exp(y)\n",
    "expr = 1 / (x**2 -1) + 1 / (x+1)\n",
    "\n",
    "print(expr3)\n",
    "print(sympy.simplify(expr3))"
   ]
  },
  {
   "cell_type": "code",
   "execution_count": 65,
   "id": "57947db9",
   "metadata": {},
   "outputs": [
    {
     "name": "stdout",
     "output_type": "stream",
     "text": [
      "Matrix([[a**2 + b*c, a*b + b*d], [a*c + c*d, b*c + d**2]])\n",
      "{-b*q_2/(a*d - b*c) + d*q_1/(a*d - b*c): (-b*q_2 + d*q_1)/(a*d - b*c), a*q_2/(a*d - b*c) - c*q_1/(a*d - b*c): (a*q_2 - c*q_1)/(a*d - b*c)}\n"
     ]
    }
   ],
   "source": [
    "a, b, c, d = sympy.symbols(\"a, b, c, d\")\n",
    "M = sympy.Matrix([[a, b], [c, d]])\n",
    "\n",
    "print(M * M)\n",
    "\n",
    "x = sympy.Matrix(sympy.symbols(\"x_1, x_2\"))\n",
    "q = sympy.Matrix(sympy.symbols(\"q_1,q_2\"))\n",
    "\n",
    "x = M.inv()*q\n",
    "print(sympy.solve(M*x - q,x))"
   ]
  }
 ],
 "metadata": {
  "kernelspec": {
   "display_name": "Python 3",
   "language": "python",
   "name": "python3"
  },
  "language_info": {
   "codemirror_mode": {
    "name": "ipython",
    "version": 3
   },
   "file_extension": ".py",
   "mimetype": "text/x-python",
   "name": "python",
   "nbconvert_exporter": "python",
   "pygments_lexer": "ipython3",
   "version": "3.8.5"
  }
 },
 "nbformat": 4,
 "nbformat_minor": 5
}
