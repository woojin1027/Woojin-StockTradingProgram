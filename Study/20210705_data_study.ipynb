{
 "cells": [
  {
   "cell_type": "code",
   "execution_count": 4,
   "id": "5ec9e20c",
   "metadata": {
    "scrolled": true
   },
   "outputs": [
    {
     "name": "stdout",
     "output_type": "stream",
     "text": [
      "[1]\n"
     ]
    }
   ],
   "source": [
    "from sklearn.neighbors import KNeighborsClassifier\n",
    "classifier = KNeighborsClassifier(n_neighbors = 1)\n",
    "training_points = [\n",
    "[0.5, 0.2, 0.1],\n",
    "[0.9, 0.7, 0.3],\n",
    "[0.4, 0.5, 0.7]\n",
    "]\n",
    "training_labels = [0, 1, 1]\n",
    "classifier.fit(training_points, training_labels)\n",
    "unknown_points = [\n",
    "[0.2, 0.1, 0.7]\n",
    "]\n",
    "guesses = classifier.predict(unknown_points)\n",
    "print(guesses)"
   ]
  },
  {
   "cell_type": "code",
   "execution_count": 28,
   "id": "6dee46b0",
   "metadata": {},
   "outputs": [
    {
     "name": "stdout",
     "output_type": "stream",
     "text": [
      "[1]\n",
      "해당 이용자의 사이즈는 L 입니다.\n"
     ]
    }
   ],
   "source": [
    "from sklearn.neighbors import KNeighborsClassifier\n",
    "classifier = KNeighborsClassifier(n_neighbors = 7)\n",
    "\n",
    "training_points = [\n",
    "[158, 58],\n",
    "[158, 59],\n",
    "[158, 63],\n",
    "[160, 59],\n",
    "[160, 60],\n",
    "[163, 60],\n",
    "[163, 61],\n",
    "[160, 64],\n",
    "[163, 64],\n",
    "[165, 61],\n",
    "[165, 62],\n",
    "[165, 65],\n",
    "[168, 62],\n",
    "[168, 63],\n",
    "[168, 66],\n",
    "[170, 63],\n",
    "[170, 64],\n",
    "[170, 68]\n",
    "]\n",
    "training_labels = [0, 0, 0, 0, 0, 0, 0, 1, 1, 1, 1, 1, 1, 1, 1, 1, 1, 1]\n",
    "classifier.fit(training_points, training_labels)\n",
    "unknown_points = [\n",
    "[159, 67]\n",
    "]\n",
    "guesses = classifier.predict(unknown_points)\n",
    "print(guesses)\n",
    "\n",
    "if guesses == 1:\n",
    "    print(\"해당 이용자의 사이즈는 L 입니다.\")\n",
    "else:\n",
    "    print(\"해당 이용자의 사이즈는 M 입니다\")"
   ]
  }
 ],
 "metadata": {
  "kernelspec": {
   "display_name": "Python 3",
   "language": "python",
   "name": "python3"
  },
  "language_info": {
   "codemirror_mode": {
    "name": "ipython",
    "version": 3
   },
   "file_extension": ".py",
   "mimetype": "text/x-python",
   "name": "python",
   "nbconvert_exporter": "python",
   "pygments_lexer": "ipython3",
   "version": "3.8.5"
  }
 },
 "nbformat": 4,
 "nbformat_minor": 5
}
