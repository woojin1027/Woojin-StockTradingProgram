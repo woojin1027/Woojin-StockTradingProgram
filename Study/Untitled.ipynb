{
 "cells": [
  {
   "cell_type": "code",
   "execution_count": 1,
   "id": "ad684965",
   "metadata": {},
   "outputs": [
    {
     "name": "stdout",
     "output_type": "stream",
     "text": [
      "데이터 청년 캠퍼스\n"
     ]
    }
   ],
   "source": [
    "print(\"데이터 청년 캠퍼스\")"
   ]
  },
  {
   "cell_type": "code",
   "execution_count": 2,
   "id": "87cdccef",
   "metadata": {},
   "outputs": [
    {
     "name": "stdout",
     "output_type": "stream",
     "text": [
      "The examination will start from : 11 / 12 / 2014\n"
     ]
    }
   ],
   "source": [
    "exam_st_date = (11,12,2014)\n",
    "print( \"The examination will start from : %d / %d / %d\"%exam_st_date)"
   ]
  },
  {
   "cell_type": "code",
   "execution_count": 7,
   "id": "822e4f30",
   "metadata": {},
   "outputs": [
    {
     "name": "stdout",
     "output_type": "stream",
     "text": [
      "good\n",
      "apple\n",
      "['apple', 'pear']\n"
     ]
    }
   ],
   "source": [
    "A = [2, 3, 4, ['a', ['Life', 'is', 'good'], ['apple', 'pear']]]\n",
    "print(A[3][1][2])\n",
    "print(A[3][2][0])\n",
    "print(A[3][2])"
   ]
  },
  {
   "cell_type": "code",
   "execution_count": 26,
   "id": "487b51db",
   "metadata": {
    "scrolled": true
   },
   "outputs": [
    {
     "name": "stdout",
     "output_type": "stream",
     "text": [
      "['거북이', '홍학', '토끼']\n",
      "['토끼', '홍학', '거북이']\n"
     ]
    }
   ],
   "source": [
    "animal = []\n",
    "animal.append('거북이')\n",
    "animal.append('홍학')\n",
    "animal.append('토끼')\n",
    "print(animal)\n",
    "animal.reverse()\n",
    "print(animal)"
   ]
  },
  {
   "cell_type": "code",
   "execution_count": 43,
   "id": "f028abc9",
   "metadata": {},
   "outputs": [
    {
     "name": "stdout",
     "output_type": "stream",
     "text": [
      "Elli\n",
      "37\n",
      "None\n",
      "age\n",
      "dict_keys(['name', 'age'])\n",
      "{'name': 'Elli', 'age': 37, 'address': 'Downtown'}\n"
     ]
    }
   ],
   "source": [
    "\n",
    "my_dict = {'name': 'Elli', 'age': 37}\n",
    "\n",
    "print(my_dict['name'])\n",
    "\n",
    "print(my_dict.get('age'))\n",
    "\n",
    "print(my_dict.get('address'))\n",
    "new_my_dict = list(my_dict.keys())\n",
    "new_my_dict_2 = my_dict.keys()\n",
    "print(new_my_dict[1])\n",
    "print(new_my_dict_2)\n",
    "my_dict['address']='Downtown'\n",
    "print(my_dict)"
   ]
  },
  {
   "cell_type": "code",
   "execution_count": 44,
   "id": "ede464ce",
   "metadata": {},
   "outputs": [
    {
     "name": "stdout",
     "output_type": "stream",
     "text": [
      "{1, 3}\n",
      "{1, 2, 3}\n",
      "{1, 2, 3, 4}\n",
      "{1, 2, 3, 4, 5, 6, 8}\n"
     ]
    }
   ],
   "source": [
    "my_set = set([1,3]) \n",
    "print(my_set)\n",
    "my_set.add(2)\n",
    "print(my_set)\n",
    "my_set.add(4)\n",
    "print(my_set)\n",
    "my_set.update([5,6,8])\n",
    "print(my_set)"
   ]
  },
  {
   "cell_type": "code",
   "execution_count": 63,
   "id": "191acf75",
   "metadata": {},
   "outputs": [
    {
     "name": "stdout",
     "output_type": "stream",
     "text": [
      "a 의 값을 입력하세요 : 1000\n",
      "a is greater than b\n"
     ]
    }
   ],
   "source": [
    "\n",
    "a = int(input(\"a 의 값을 입력하세요 : \"))\n",
    "\n",
    "b = 200\n",
    "\n",
    "if b > a:\n",
    "    print(\"b is greater than a\")\n",
    "elif b == a:\n",
    "    print(\"a and b are equal\")\n",
    "else:\n",
    "    print(\"a is greater than b\")"
   ]
  },
  {
   "cell_type": "code",
   "execution_count": 73,
   "id": "8a16bf2d",
   "metadata": {},
   "outputs": [
    {
     "ename": "SyntaxError",
     "evalue": "invalid syntax (<ipython-input-73-ad5a60c0f990>, line 4)",
     "output_type": "error",
     "traceback": [
      "\u001b[1;36m  File \u001b[1;32m\"<ipython-input-73-ad5a60c0f990>\"\u001b[1;36m, line \u001b[1;32m4\u001b[0m\n\u001b[1;33m    for a in range(1:len(f)):\u001b[0m\n\u001b[1;37m                    ^\u001b[0m\n\u001b[1;31mSyntaxError\u001b[0m\u001b[1;31m:\u001b[0m invalid syntax\n"
     ]
    }
   ],
   "source": [
    "f = [\"apple\", \"banana\",\"cherry\"]\n",
    "for a in range(3):\n",
    "    print(f[a])\n",
    "for a in range(1:int(f.size()):\n",
    "    print(f[a])"
   ]
  }
 ],
 "metadata": {
  "kernelspec": {
   "display_name": "Python 3",
   "language": "python",
   "name": "python3"
  },
  "language_info": {
   "codemirror_mode": {
    "name": "ipython",
    "version": 3
   },
   "file_extension": ".py",
   "mimetype": "text/x-python",
   "name": "python",
   "nbconvert_exporter": "python",
   "pygments_lexer": "ipython3",
   "version": "3.8.5"
  }
 },
 "nbformat": 4,
 "nbformat_minor": 5
}
