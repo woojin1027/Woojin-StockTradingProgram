{
 "cells": [
  {
   "cell_type": "code",
   "execution_count": 1,
   "id": "ad684965",
   "metadata": {},
   "outputs": [
    {
     "name": "stdout",
     "output_type": "stream",
     "text": [
      "데이터 청년 캠퍼스\n"
     ]
    }
   ],
   "source": [
    "print(\"데이터 청년 캠퍼스\")"
   ]
  },
  {
   "cell_type": "code",
   "execution_count": 2,
   "id": "87cdccef",
   "metadata": {},
   "outputs": [
    {
     "name": "stdout",
     "output_type": "stream",
     "text": [
      "The examination will start from : 11 / 12 / 2014\n"
     ]
    }
   ],
   "source": [
    "exam_st_date = (11,12,2014)\n",
    "print( \"The examination will start from : %d / %d / %d\"%exam_st_date)"
   ]
  },
  {
   "cell_type": "code",
   "execution_count": 3,
   "id": "822e4f30",
   "metadata": {},
   "outputs": [
    {
     "name": "stdout",
     "output_type": "stream",
     "text": [
      "good\n",
      "apple\n",
      "['apple', 'pear']\n"
     ]
    }
   ],
   "source": [
    "A = [2, 3, 4, ['a', ['Life', 'is', 'good'], ['apple', 'pear']]]\n",
    "print(A[3][1][2])\n",
    "print(A[3][2][0])\n",
    "print(A[3][2])"
   ]
  },
  {
   "cell_type": "code",
   "execution_count": 4,
   "id": "487b51db",
   "metadata": {
    "scrolled": true
   },
   "outputs": [
    {
     "name": "stdout",
     "output_type": "stream",
     "text": [
      "['거북이', '홍학', '토끼']\n",
      "['토끼', '홍학', '거북이']\n"
     ]
    }
   ],
   "source": [
    "animal = []\n",
    "animal.append('거북이')\n",
    "animal.append('홍학')\n",
    "animal.append('토끼')\n",
    "print(animal)\n",
    "animal.reverse()\n",
    "print(animal)"
   ]
  },
  {
   "cell_type": "code",
   "execution_count": 5,
   "id": "f028abc9",
   "metadata": {},
   "outputs": [
    {
     "name": "stdout",
     "output_type": "stream",
     "text": [
      "Elli\n",
      "37\n",
      "None\n",
      "age\n",
      "dict_keys(['name', 'age'])\n",
      "{'name': 'Elli', 'age': 37, 'address': 'Downtown'}\n"
     ]
    }
   ],
   "source": [
    "\n",
    "my_dict = {'name': 'Elli', 'age': 37}\n",
    "\n",
    "print(my_dict['name'])\n",
    "\n",
    "print(my_dict.get('age'))\n",
    "\n",
    "print(my_dict.get('address'))\n",
    "new_my_dict = list(my_dict.keys())\n",
    "new_my_dict_2 = my_dict.keys()\n",
    "print(new_my_dict[1])\n",
    "print(new_my_dict_2)\n",
    "my_dict['address']='Downtown'\n",
    "print(my_dict)"
   ]
  },
  {
   "cell_type": "code",
   "execution_count": 6,
   "id": "ede464ce",
   "metadata": {},
   "outputs": [
    {
     "name": "stdout",
     "output_type": "stream",
     "text": [
      "{1, 3}\n",
      "{1, 2, 3}\n",
      "{1, 2, 3, 4}\n",
      "{1, 2, 3, 4, 5, 6, 8}\n"
     ]
    }
   ],
   "source": [
    "my_set = set([1,3]) \n",
    "print(my_set)\n",
    "my_set.add(2)\n",
    "print(my_set)\n",
    "my_set.add(4)\n",
    "print(my_set)\n",
    "my_set.update([5,6,8])\n",
    "print(my_set)"
   ]
  },
  {
   "cell_type": "code",
   "execution_count": 7,
   "id": "191acf75",
   "metadata": {},
   "outputs": [
    {
     "name": "stdout",
     "output_type": "stream",
     "text": [
      "a 의 값을 입력하세요 : 10000\n",
      "a is greater than b\n"
     ]
    }
   ],
   "source": [
    "\n",
    "a = int(input(\"a 의 값을 입력하세요 : \"))\n",
    "\n",
    "b = 200\n",
    "\n",
    "if b > a:\n",
    "    print(\"b is greater than a\")\n",
    "elif b == a:\n",
    "    print(\"a and b are equal\")\n",
    "else:\n",
    "    print(\"a is greater than b\")"
   ]
  },
  {
   "cell_type": "markdown",
   "id": "61156b36",
   "metadata": {},
   "source": [
    "### for 문 실습"
   ]
  },
  {
   "cell_type": "code",
   "execution_count": 8,
   "id": "8a16bf2d",
   "metadata": {
    "scrolled": false
   },
   "outputs": [
    {
     "name": "stdout",
     "output_type": "stream",
     "text": [
      "apple\n",
      "banana\n",
      "cherry\n",
      "apple\n",
      "banana\n",
      "바나나를 찾았기에 정지합니다\n"
     ]
    }
   ],
   "source": [
    "## 1.\n",
    "f = [\"apple\", \"banana\",\"cherry\"]\n",
    "for a in range(len(f)):\n",
    "    print(f[a])\n",
    "    \n",
    "for a in range(3):\n",
    "    print(f[a])\n",
    "    if f[a] == \"banana\":\n",
    "        print(\"바나나를 찾았기에 정지합니다\")\n",
    "        break"
   ]
  },
  {
   "cell_type": "code",
   "execution_count": 9,
   "id": "3d0e063a",
   "metadata": {},
   "outputs": [
    {
     "name": "stdout",
     "output_type": "stream",
     "text": [
      "[0, 2, 4, 6, 8, 10, 12, 14, 16, 18]\n",
      "[0, 5, 10, 15, 20, 25, 30, 35, 40, 45, 50, 55, 60, 65, 70, 75, 80, 85, 90, 95]\n"
     ]
    }
   ],
   "source": [
    "## 2. \n",
    "\n",
    "apple = [x for x in range(20) if x % 2 == 0 ]\n",
    "print(apple)\n",
    "banana = [x for x in range(100) if x % 5 == 0 ]\n",
    "print(banana)"
   ]
  },
  {
   "cell_type": "code",
   "execution_count": 10,
   "id": "f76726e2",
   "metadata": {
    "scrolled": true
   },
   "outputs": [
    {
     "name": "stdout",
     "output_type": "stream",
     "text": [
      "['h', 'u', 'm', 'r', 'e', 'a', 'n']\n"
     ]
    }
   ],
   "source": [
    "## 3.\n",
    "h_letters = []\n",
    "\n",
    "for letter in 'humrean':\n",
    "    #print(letter)\n",
    "    h_letters.append(letter)\n",
    "\n",
    "print(h_letters)"
   ]
  },
  {
   "cell_type": "markdown",
   "id": "1f70d6f0",
   "metadata": {},
   "source": [
    "## 함수를 활용한 실습"
   ]
  },
  {
   "cell_type": "code",
   "execution_count": 37,
   "id": "f44b9d46",
   "metadata": {
    "scrolled": true
   },
   "outputs": [
    {
     "name": "stdout",
     "output_type": "stream",
     "text": [
      "estheresther\n",
      "e\n",
      "s\n",
      "current letter\n",
      "current letter\n",
      "e\n",
      "current letter\n",
      "e\n",
      "s\n",
      "current letter\n",
      "current letter\n",
      "e\n",
      "current letter\n"
     ]
    }
   ],
   "source": [
    "## 1.\n",
    "a = 'estheresther'\n",
    "print(a)\n",
    "\n",
    "def es_ch(a):\n",
    "    i = 0 \n",
    "    while i < len(a):\n",
    "        if a[i] == 'e':\n",
    "            print(a[i])\n",
    "            i += 1\n",
    "            continue\n",
    "        if a[i] == 's':\n",
    "            print(a[i])\n",
    "            i += 1\n",
    "            continue\n",
    "        print(\"current letter\")\n",
    "        i += 1\n",
    "        \n",
    "es_ch(a)"
   ]
  },
  {
   "cell_type": "code",
   "execution_count": 42,
   "id": "add19e8f",
   "metadata": {
    "scrolled": true
   },
   "outputs": [
    {
     "name": "stdout",
     "output_type": "stream",
     "text": [
      "at least one of the conditions is true\n"
     ]
    }
   ],
   "source": [
    "## 2.\n",
    "a = 200\n",
    "b = 33\n",
    "c = 500\n",
    "\n",
    "def size(a,b,c):\n",
    "\n",
    "    if a> b or a>c:\n",
    "        print(\"at least one of the conditions is true\")\n",
    "        \n",
    "size(a,b,c)"
   ]
  },
  {
   "cell_type": "markdown",
   "id": "c3161ee2",
   "metadata": {},
   "source": [
    "## lambda 함수"
   ]
  },
  {
   "cell_type": "code",
   "execution_count": 49,
   "id": "01fcc4e2",
   "metadata": {
    "scrolled": true
   },
   "outputs": [
    {
     "name": "stdout",
     "output_type": "stream",
     "text": [
      "13\n"
     ]
    }
   ],
   "source": [
    "## 1.\n",
    "x =lambda a: a + 10\n",
    "print(x(3))"
   ]
  },
  {
   "cell_type": "code",
   "execution_count": 52,
   "id": "beefe7da",
   "metadata": {
    "scrolled": true
   },
   "outputs": [
    {
     "name": "stdout",
     "output_type": "stream",
     "text": [
      "27\n",
      "16\n"
     ]
    }
   ],
   "source": [
    "## 2. \n",
    "x = lambda a : a**2 if a%2 == 0 else a**3\n",
    "\n",
    "print(x(3))\n",
    "print(x(4))"
   ]
  },
  {
   "cell_type": "code",
   "execution_count": 59,
   "id": "639e8424",
   "metadata": {
    "scrolled": true
   },
   "outputs": [
    {
     "name": "stdout",
     "output_type": "stream",
     "text": [
      "9\n",
      "64\n"
     ]
    }
   ],
   "source": [
    "## 3. \n",
    "x = lambda a : a**3 if a%2 == 0 else(a**4 if a%3 ==1 else a**2)\n",
    "\n",
    "print(x(3))\n",
    "print(x(4))"
   ]
  },
  {
   "cell_type": "markdown",
   "id": "f1f5ca30",
   "metadata": {},
   "source": [
    "## imput 사용법"
   ]
  },
  {
   "cell_type": "code",
   "execution_count": 60,
   "id": "f26ba7f8",
   "metadata": {
    "scrolled": true
   },
   "outputs": [
    {
     "name": "stdout",
     "output_type": "stream",
     "text": [
      " 숫자를 입력하세요 : 2\n",
      " 입력하신 숫자는 \n",
      "2\n"
     ]
    }
   ],
   "source": [
    "a = input(\" 숫자를 입력하세요 : \")\n",
    "print(\" 입력하신 숫자는 \\n\" + a )"
   ]
  },
  {
   "cell_type": "code",
   "execution_count": 76,
   "id": "cd664da8",
   "metadata": {
    "scrolled": true
   },
   "outputs": [
    {
     "name": "stdout",
     "output_type": "stream",
     "text": [
      " 숫자를 입력하세요 : 1 11\n",
      " 입력하신 숫자는 1 그리고 11 입니다.\n",
      "사칙연산 기호를 입력하세요 (+.-,*,/ 중 하나) : -\n",
      " 입력하신 사칙연산 기호는 - 입니다. \n",
      "-10\n"
     ]
    }
   ],
   "source": [
    "## 1.\n",
    "a,b = input(\" 숫자를 입력하세요 : \").split()\n",
    "print(\" 입력하신 숫자는 \" +  a +\" 그리고 \" + b + \" 입니다.\")\n",
    "cir = input(\"사칙연산 기호를 입력하세요 (+.-,*,/ 중 하나) : \")\n",
    "print(\" 입력하신 사칙연산 기호는 \" + cir + \" 입니다. \")\n",
    "\n",
    "if cir == '+':\n",
    "    res = int(a) + int(b)\n",
    "    print(res)\n",
    "elif cir == '-':\n",
    "    res = int(a) - int(b)\n",
    "    print(res)\n",
    "elif cir == '*':\n",
    "    res = int(a) * int(b)\n",
    "    print(res)\n",
    "elif cir == '/':\n",
    "    res = int(a) / int(b)\n",
    "    print(res)\n",
    "else :\n",
    "    print(\"입력한 사칙연산에 오류가 있습니다. 다시 시도 해보샘\")\n",
    "    "
   ]
  },
  {
   "cell_type": "code",
   "execution_count": 82,
   "id": "ce5fd033",
   "metadata": {
    "scrolled": true
   },
   "outputs": [
    {
     "name": "stdout",
     "output_type": "stream",
     "text": [
      "유저 이름을 서술 하시오 : jihyn\n",
      "해당 유저를 찾을수가 없습니다.\n"
     ]
    }
   ],
   "source": [
    "## 2.\n",
    "list_u = [\"sohyun\",\"jayoung\",\"miyoung\",\"jihyun\",\"heeyoung\"]\n",
    "a = input(\"유저 이름을 서술 하시오 : \")\n",
    "\n",
    "if a in list_u:\n",
    "    print (list_u.index(a))\n",
    "    pirnt (a + \"해당 유저의 정보를 수정하겠습니다.\")\n",
    "else:\n",
    "    print ('해당 유저를 찾을수가 없습니다.')\n"
   ]
  },
  {
   "cell_type": "code",
   "execution_count": 83,
   "id": "227f9ace",
   "metadata": {},
   "outputs": [
    {
     "name": "stdout",
     "output_type": "stream",
     "text": [
      "추가여부 - yes/no : yes\n",
      "name:d\n",
      "birth:d\n",
      "phone:d\n",
      "age:d\n",
      "gender:d\n",
      "추가여부 - yes/no : no\n",
      "['//', 'd', 'd', 'd', 'd', 'd', '//']\n"
     ]
    }
   ],
   "source": [
    "i=0\n",
    "ID = []\n",
    "while True:\n",
    "    a= input(\"추가여부 - yes/no : \")\n",
    "    if a == \"yes\":\n",
    "        ID.append(\"//\")\n",
    "        ID.append(input(\"name:\"))        \n",
    "        ID.append(input(\"birth:\"))\n",
    "        ID.append(input(\"phone:\"))\n",
    "        ID.append(input(\"age:\"))\n",
    "        ID.append(input(\"gender:\"))\n",
    "        ID.append(\"//\")\n",
    "    else :\n",
    "        break\n",
    "    i=i+1\n",
    "    \n",
    "\n",
    "print(ID)"
   ]
  },
  {
   "cell_type": "markdown",
   "id": "f0c16a24",
   "metadata": {},
   "source": [
    "## 파일읽고 쓰기 "
   ]
  },
  {
   "cell_type": "code",
   "execution_count": 121,
   "id": "c780d6d8",
   "metadata": {},
   "outputs": [
    {
     "name": "stdout",
     "output_type": "stream",
     "text": [
      "this is first line\n",
      "\n",
      "this is second line\n",
      "\n",
      "this is third line\n",
      "\n",
      "this is forth line\n",
      "\n",
      "this is fifth line\n",
      "-----------------------\n",
      "this is first line\n",
      "\n",
      "this is second line\n",
      "\n",
      "this is third line\n",
      "\n",
      "this is forth line\n",
      "\n",
      "this is fifth line\n",
      "\n",
      "this is added line\n"
     ]
    }
   ],
   "source": [
    "with open(\"woojin.txt\",\"w\") as w:\n",
    "    w.write(\"this is first line\")\n",
    "    w.write(\"\\n\")\n",
    "    w.write(\"this is second line\")\n",
    "    w.write(\"\\n\")\n",
    "    w.write(\"this is third line\")\n",
    "    w.write(\"\\n\")\n",
    "    w.write(\"this is forth line\")\n",
    "    w.write(\"\\n\")\n",
    "    w.write(\"this is fifth line\")\n",
    "    \n",
    "with open(\"woojin.txt\",\"r\") as w:\n",
    "    lines = w.readlines()\n",
    "for line in lines:\n",
    "    print(line)\n",
    "    \n",
    "\n",
    "print ('-----------------------')\n",
    "f = open(\"woojin.txt\",'a')\n",
    "f.write(\"\\n\")\n",
    "f.write(\"this is added line\")\n",
    "f.close()\n",
    "    \n",
    "f = open(\"woojin.txt\",'r')\n",
    "lines = f.readlines()\n",
    "for line in lines:\n",
    "    print(line)\n",
    "f.close()"
   ]
  }
 ],
 "metadata": {
  "kernelspec": {
   "display_name": "Python 3",
   "language": "python",
   "name": "python3"
  },
  "language_info": {
   "codemirror_mode": {
    "name": "ipython",
    "version": 3
   },
   "file_extension": ".py",
   "mimetype": "text/x-python",
   "name": "python",
   "nbconvert_exporter": "python",
   "pygments_lexer": "ipython3",
   "version": "3.8.5"
  }
 },
 "nbformat": 4,
 "nbformat_minor": 5
}
